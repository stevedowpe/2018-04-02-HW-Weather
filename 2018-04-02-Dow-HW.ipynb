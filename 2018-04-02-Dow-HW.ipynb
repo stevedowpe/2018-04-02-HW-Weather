{
 "cells": [
  {
   "cell_type": "code",
   "execution_count": 1,
   "metadata": {},
   "outputs": [],
   "source": [
    "# Dependencies and authorizations\n",
    "import json\n",
    "import requests\n",
    "import matplotlib.pyplot as plt\n",
    "import pandas as pd\n",
    "import numpy as np\n",
    "import openweathermapy as ow\n",
    "# import citipy as cp\n",
    "\n",
    "api_key = \"95a8ecbb29e0648af07bc7428a275bbb\""
   ]
  },
  {
   "cell_type": "code",
   "execution_count": 2,
   "metadata": {},
   "outputs": [
    {
     "data": {
      "text/html": [
       "<div>\n",
       "<style scoped>\n",
       "    .dataframe tbody tr th:only-of-type {\n",
       "        vertical-align: middle;\n",
       "    }\n",
       "\n",
       "    .dataframe tbody tr th {\n",
       "        vertical-align: top;\n",
       "    }\n",
       "\n",
       "    .dataframe thead th {\n",
       "        text-align: right;\n",
       "    }\n",
       "</style>\n",
       "<table border=\"1\" class=\"dataframe\">\n",
       "  <thead>\n",
       "    <tr style=\"text-align: right;\">\n",
       "      <th></th>\n",
       "      <th>Latitude</th>\n",
       "      <th>Longitude</th>\n",
       "      <th>City ID</th>\n",
       "      <th>City Name</th>\n",
       "      <th>Temperature (F)</th>\n",
       "      <th>Humidity (%)</th>\n",
       "      <th>Cloudiness (%)</th>\n",
       "      <th>Wind Speed (mph)</th>\n",
       "      <th>web</th>\n",
       "    </tr>\n",
       "  </thead>\n",
       "  <tbody>\n",
       "    <tr>\n",
       "      <th>0</th>\n",
       "      <td>-37.0</td>\n",
       "      <td>-32.0</td>\n",
       "      <td></td>\n",
       "      <td></td>\n",
       "      <td></td>\n",
       "      <td></td>\n",
       "      <td></td>\n",
       "      <td></td>\n",
       "      <td></td>\n",
       "    </tr>\n",
       "  </tbody>\n",
       "</table>\n",
       "</div>"
      ],
      "text/plain": [
       "   Latitude  Longitude City ID City Name Temperature (F) Humidity (%)  \\\n",
       "0     -37.0      -32.0                                                  \n",
       "\n",
       "  Cloudiness (%) Wind Speed (mph) web  \n",
       "0                                      "
      ]
     },
     "execution_count": 2,
     "metadata": {},
     "output_type": "execute_result"
    }
   ],
   "source": [
    "# Get random lats and lons and put these into a dataframe table:\n",
    "# https://docs.scipy.org/doc/numpy/reference/generated/numpy.random.uniform.html\n",
    "# range should be 0:499 -- shown as 0:10 below to speed up testing during development... \n",
    "latlist = np.random.uniform(-90,90,10).round(0)\n",
    "lonlist = np.random.uniform(-180,180,10).round(0)\n",
    "\n",
    "latlon_table = pd.DataFrame({\"Latitude\":latlist,\"Longitude\":lonlist})\n",
    "latlon_table['City ID']= \"\"\n",
    "latlon_table['City Name']= \"\"\n",
    "latlon_table['Temperature (F)']= \"\"\n",
    "latlon_table['Humidity (%)'] = \"\"\n",
    "latlon_table['Cloudiness (%)']= \"\"\n",
    "latlon_table['Wind Speed (mph)'] = \"\"\n",
    "latlon_table['web'] = \"\"\n",
    "latlon_table.head(1)\n",
    "   "
   ]
  },
  {
   "cell_type": "code",
   "execution_count": 3,
   "metadata": {},
   "outputs": [
    {
     "data": {
      "text/html": [
       "<div>\n",
       "<style scoped>\n",
       "    .dataframe tbody tr th:only-of-type {\n",
       "        vertical-align: middle;\n",
       "    }\n",
       "\n",
       "    .dataframe tbody tr th {\n",
       "        vertical-align: top;\n",
       "    }\n",
       "\n",
       "    .dataframe thead th {\n",
       "        text-align: right;\n",
       "    }\n",
       "</style>\n",
       "<table border=\"1\" class=\"dataframe\">\n",
       "  <thead>\n",
       "    <tr style=\"text-align: right;\">\n",
       "      <th></th>\n",
       "      <th>Latitude</th>\n",
       "      <th>Longitude</th>\n",
       "      <th>City ID</th>\n",
       "      <th>City Name</th>\n",
       "      <th>Temperature (F)</th>\n",
       "      <th>Humidity (%)</th>\n",
       "      <th>Cloudiness (%)</th>\n",
       "      <th>Wind Speed (mph)</th>\n",
       "      <th>web</th>\n",
       "    </tr>\n",
       "  </thead>\n",
       "  <tbody>\n",
       "    <tr>\n",
       "      <th>0</th>\n",
       "      <td>-37.0</td>\n",
       "      <td>-32.0</td>\n",
       "      <td></td>\n",
       "      <td></td>\n",
       "      <td></td>\n",
       "      <td></td>\n",
       "      <td></td>\n",
       "      <td></td>\n",
       "      <td></td>\n",
       "    </tr>\n",
       "  </tbody>\n",
       "</table>\n",
       "</div>"
      ],
      "text/plain": [
       "   Latitude  Longitude City ID City Name Temperature (F) Humidity (%)  \\\n",
       "0     -37.0      -32.0                                                  \n",
       "\n",
       "  Cloudiness (%) Wind Speed (mph) web  \n",
       "0                                      "
      ]
     },
     "execution_count": 3,
     "metadata": {},
     "output_type": "execute_result"
    }
   ],
   "source": [
    "# Create loop and set up queries to each lat-lon location:\n",
    "url = \"http://api.openweathermap.org/data/2.5/weather?\"\n",
    "api_key = \"95a8ecbb29e0648af07bc7428a275bbb\"\n",
    "\n",
    "for index, row in latlon_table.iterrows():\n",
    "    lat=row[\"Latitude\"]\n",
    "    lon=row[\"Longitude\"]\n",
    "    \n",
    "    # Assemble url and make API requests\n",
    "    query_url = url +  \"lat=\" + str(lat) + \"&lon=\" + str(lon) +\"&APPID=\" + api_key\n",
    "    weather_response = requests.get(query_url).json()\n",
    "     \n",
    "    # print(query_url)\n",
    "    \n",
    "      \n",
    "    # Partial Attempt at Pulling Queried data in the dataframe (Extract result and use pd.set_value to insert into dataframe), \n",
    "    # but started with Jacob's recommendation... Attempt #1 \n",
    "    #latlon_table.set_value(\n",
    "    #    index, \"City ID\", weather_response[\"id\"])\n",
    "    #city_id = weather_response[\"id\"]\n",
    "    #row[\"City ID\"] = city_id\n",
    "    \n",
    "    # Attempt #1 -- But first trying it per Jacob's recommendatin to use \"row[\"web\"] = query_url format\n",
    "    row[\"web\"] = query_url\n",
    "    row[\"City ID\"] = weather_response[\"id\"]\n",
    "# #    row[\"City Name\"] = weather_json[\"name\"]\n",
    "# #    row[\"Temperature (F)\"] = ((weather_json[\"main\"][\"temp\"])*(9/5))-459.67\n",
    "# #    row[\"Humidity (%)\"] = weather_json[\"main\"][\"humidity\"]\n",
    "# #    row[\"Cloudiness (%)\"] = weather_json[\"clouds\"][\"all\"]\n",
    "# #    row[\"Wind Speed (mph)\"] = (weather_json[\"wind\"][\"speed\"])*2.2369\n",
    "# #    print(query_url)\n",
    "#     #latlonweb_table=latlon_table.append({\"Web\":query_url}, ignore_index=True)\n",
    "latlon_table.head(1)\n",
    "\n",
    "# for index, row in rche_df.iterrows():\n",
    "#     if isinstance(row.wgs1984_latitude, float):\n",
    "#         row = row.copy()\n",
    "#         target = row.address_chi        \n",
    "#         dict_temp = geocoding(target)\n",
    "#         rche_df.loc[index, 'wgs1984_latitude'] = dict_temp['lat']\n",
    "#         rche_df.loc[index, 'wgs1984_longitude'] = dict_temp['long']\n",
    "\n",
    "# for index, row in rche_df.iterrows():\n",
    "#     if isinstance(row.wgs1984_latitude, float):\n",
    "#         row = row.copy()\n",
    "#         target = row.address_chi        \n",
    "#         dict_temp = geocoding(target)\n",
    "#         rche_df.loc[index, 'wgs1984_latitude'] = dict_temp['lat']\n",
    "#         rche_df.loc[index, 'wgs1984_longitude'] = dict_temp['long']"
   ]
  },
  {
   "cell_type": "code",
   "execution_count": 4,
   "metadata": {},
   "outputs": [],
   "source": [
    "# Plotting - not ready yet \n",
    "# latlon_table.plot(kind=\"scatter\", x=float(\"Temperature (F)\"),y=\"Latitude\",grid=True,figsize=(20,10),\n",
    "#                  title=\"Temperature (F) vs. Latitude\")\n",
    "# plt.show()\n"
   ]
  },
  {
   "cell_type": "code",
   "execution_count": 5,
   "metadata": {},
   "outputs": [
    {
     "data": {
      "text/plain": [
       "'http://api.openweathermap.org/data/2.5/weather?lat=35.0513251515151&lon=-179.1&APPID=95a8ecbb29e0648af07bc7428a275bbb'"
      ]
     },
     "execution_count": 5,
     "metadata": {},
     "output_type": "execute_result"
    }
   ],
   "source": [
    "# TESTING GROUNDS - Non-Looped / Single Instance - Part 1 \n",
    "# Save config information\n",
    "urltest = \"http://api.openweathermap.org/data/2.5/weather?\"\n",
    "api_key = \"95a8ecbb29e0648af07bc7428a275bbb\"\n",
    "lattest = 35.0513251515151\n",
    "lontest = -179.1\n",
    "\n",
    "# Build query URL\n",
    "#http://api.openweathermap.org/data/2.5/weather?lat=35&lon=139,&APPID=95a8ecbb29e0648af07bc7428a275bbb\n",
    "#query_urltest = urltest +  \"lat=\" + lattest + \"&lon=\" + lontest +\"&APPID=\" + api_key\n",
    "query_urltest = urltest +  \"lat=\" + str(lattest) + \"&lon=\" + str(lontest) +\"&APPID=\" + api_key\n",
    "query_urltest\n"
   ]
  },
  {
   "cell_type": "code",
   "execution_count": 6,
   "metadata": {},
   "outputs": [
    {
     "name": "stdout",
     "output_type": "stream",
     "text": [
      "{\n",
      "        \"base\": \"stations\",\n",
      "        \"clouds\": {\n",
      "                \"all\": 56\n",
      "        },\n",
      "        \"cod\": 200,\n",
      "        \"coord\": {\n",
      "                \"lat\": 35.05,\n",
      "                \"lon\": -179.1\n",
      "        },\n",
      "        \"dt\": 1522544863,\n",
      "        \"id\": 0,\n",
      "        \"main\": {\n",
      "                \"grnd_level\": 1023.75,\n",
      "                \"humidity\": 100,\n",
      "                \"pressure\": 1023.75,\n",
      "                \"sea_level\": 1023.82,\n",
      "                \"temp\": 287.294,\n",
      "                \"temp_max\": 287.294,\n",
      "                \"temp_min\": 287.294\n",
      "        },\n",
      "        \"name\": \"\",\n",
      "        \"sys\": {\n",
      "                \"message\": 0.1636,\n",
      "                \"sunrise\": 1522604564,\n",
      "                \"sunset\": 1522649881\n",
      "        },\n",
      "        \"weather\": [\n",
      "                {\n",
      "                        \"description\": \"broken clouds\",\n",
      "                        \"icon\": \"04n\",\n",
      "                        \"id\": 803,\n",
      "                        \"main\": \"Clouds\"\n",
      "                }\n",
      "        ],\n",
      "        \"wind\": {\n",
      "                \"deg\": 302.001,\n",
      "                \"speed\": 3.93\n",
      "        }\n",
      "}\n"
     ]
    },
    {
     "data": {
      "text/plain": [
       "{'City ID': 0,\n",
       " 'City Name': '',\n",
       " 'Cloudiness': 56,\n",
       " 'Humidity': 100,\n",
       " 'Temperature': 57.45919999999995,\n",
       " 'Wind speed': 8.791017}"
      ]
     },
     "execution_count": 6,
     "metadata": {},
     "output_type": "execute_result"
    }
   ],
   "source": [
    "# TESTING GROUNDS - Non-Looped / Single Instance - Part 2 \n",
    "# Get weather data\n",
    "weather_response_test = requests.get(query_urltest).json()\n",
    "#weather_json = weather_response.json()\n",
    "\n",
    "print(json.dumps(weather_response_test, indent=8, sort_keys=True))\n",
    "\n",
    "humidity = weather_response_test[\"main\"][\"humidity\"]\n",
    "city_id = weather_response_test[\"id\"]\n",
    "city_name = weather_response_test[\"name\"]\n",
    "temp_k = (weather_response_test[\"main\"][\"temp\"])\n",
    "temp_f = (temp_k*(9/5)-459.67)\n",
    "cloudiness = weather_response_test[\"clouds\"][\"all\"]\n",
    "wind_speed_metersps = weather_response_test[\"wind\"][\"speed\"]\n",
    "wind_speed_mph = (wind_speed_metersps *2.2369) \n",
    "\n",
    "summary = {\"City ID\": city_id, \"City Name\": city_name,\"Temperature\": temp_f, \n",
    "           \"Cloudiness\": cloudiness, \"Wind speed\": wind_speed_mph, \"Humidity\": humidity}\n",
    "summary"
   ]
  },
  {
   "cell_type": "code",
   "execution_count": 7,
   "metadata": {},
   "outputs": [
    {
     "ename": "ModuleNotFoundError",
     "evalue": "No module named 'citipy'",
     "output_type": "error",
     "traceback": [
      "\u001b[1;31m---------------------------------------------------------------------------\u001b[0m",
      "\u001b[1;31mModuleNotFoundError\u001b[0m                       Traceback (most recent call last)",
      "\u001b[1;32m<ipython-input-7-1294a8d6686a>\u001b[0m in \u001b[0;36m<module>\u001b[1;34m()\u001b[0m\n\u001b[0;32m      1\u001b[0m \u001b[1;31m# sample testing of Citipy\u001b[0m\u001b[1;33m\u001b[0m\u001b[1;33m\u001b[0m\u001b[0m\n\u001b[1;32m----> 2\u001b[1;33m \u001b[1;32mfrom\u001b[0m \u001b[0mcitipy\u001b[0m \u001b[1;32mimport\u001b[0m \u001b[0mcitipy\u001b[0m\u001b[1;33m\u001b[0m\u001b[0m\n\u001b[0m\u001b[0;32m      3\u001b[0m \u001b[0mlattest2\u001b[0m \u001b[1;33m=\u001b[0m \u001b[1;36m35.9898\u001b[0m\u001b[1;33m\u001b[0m\u001b[0m\n\u001b[0;32m      4\u001b[0m \u001b[0mlontest2\u001b[0m \u001b[1;33m=\u001b[0m \u001b[1;33m-\u001b[0m\u001b[1;36m179.8756989876\u001b[0m\u001b[1;33m\u001b[0m\u001b[0m\n\u001b[0;32m      5\u001b[0m \u001b[0mcity\u001b[0m \u001b[1;33m=\u001b[0m \u001b[0mcitipy\u001b[0m\u001b[1;33m.\u001b[0m\u001b[0mnearest_city\u001b[0m\u001b[1;33m(\u001b[0m\u001b[0mlattest2\u001b[0m\u001b[1;33m,\u001b[0m \u001b[0mlontest2\u001b[0m\u001b[1;33m)\u001b[0m\u001b[1;33m\u001b[0m\u001b[0m\n",
      "\u001b[1;31mModuleNotFoundError\u001b[0m: No module named 'citipy'"
     ]
    }
   ],
   "source": [
    "# sample testing of Citipy \n",
    "from citipy import citipy\n",
    "lattest2 = 35.9898\n",
    "lontest2 = -179.8756989876\n",
    "city = citipy.nearest_city(lattest2, lontest2)\n",
    "#city.city_name \n",
    "#city.state_code-- apparently does not exist as an attribute\n",
    "#city.country_code\n",
    "print(\"City is: \" + city.city_name + \" and the country code is \" + city.country_code)"
   ]
  },
  {
   "cell_type": "code",
   "execution_count": null,
   "metadata": {},
   "outputs": [],
   "source": []
  }
 ],
 "metadata": {
  "kernelspec": {
   "display_name": "Python 3",
   "language": "python",
   "name": "python3"
  },
  "language_info": {
   "codemirror_mode": {
    "name": "ipython",
    "version": 3
   },
   "file_extension": ".py",
   "mimetype": "text/x-python",
   "name": "python",
   "nbconvert_exporter": "python",
   "pygments_lexer": "ipython3",
   "version": "3.6.4"
  }
 },
 "nbformat": 4,
 "nbformat_minor": 2
}
